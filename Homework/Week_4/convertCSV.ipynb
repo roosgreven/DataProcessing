{
 "cells": [
  {
   "cell_type": "code",
   "execution_count": 46,
   "metadata": {
    "collapsed": false
   },
   "outputs": [
    {
     "name": "stdout",
     "output_type": "stream",
     "text": [
      "0.658248662948608\n"
     ]
    }
   ],
   "source": [
    "import csv\n",
    "import json\n",
    "data = []\n",
    "findmin = []\n",
    "with open('2017.csv', newline = '') as csvfile:\n",
    "    thisfile = csv.reader(csvfile, delimiter = ',')\n",
    "    \n",
    "    for row in thisfile:\n",
    "        data.append({\"country\": row[0], \"happiness\": float(row[2]), \"generosity\": float(row[9]), \"freedom\": float(row[8])})\n",
    "        findmin.append(row[8])\n",
    "        \n",
    "with open('data2017.json', 'w') as outfile:\n",
    "    json.dump(data, outfile)\n",
    "\n",
    "print(max(findmin))\n"
   ]
  },
  {
   "cell_type": "code",
   "execution_count": null,
   "metadata": {
    "collapsed": true
   },
   "outputs": [],
   "source": []
  }
 ],
 "metadata": {
  "anaconda-cloud": {},
  "kernelspec": {
   "display_name": "Python 3",
   "language": "python",
   "name": "python3"
  },
  "language_info": {
   "codemirror_mode": {
    "name": "ipython",
    "version": 3
   },
   "file_extension": ".py",
   "mimetype": "text/x-python",
   "name": "python",
   "nbconvert_exporter": "python",
   "pygments_lexer": "ipython3",
   "version": "3.6.4"
  }
 },
 "nbformat": 4,
 "nbformat_minor": 1
}
